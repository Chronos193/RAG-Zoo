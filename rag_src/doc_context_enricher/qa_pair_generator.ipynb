{
  "nbformat": 4,
  "nbformat_minor": 0,
  "metadata": {
    "colab": {
      "provenance": []
    },
    "kernelspec": {
      "name": "python3",
      "display_name": "Python 3"
    },
    "language_info": {
      "name": "python"
    }
  },
  "cells": [
    {
      "cell_type": "code",
      "execution_count": null,
      "metadata": {
        "id": "d9_CXT2cp1rB"
      },
      "outputs": [],
      "source": [
        "from base.doc_context_enricher import BaseContextEnricher\n",
        "from typing import List\n",
        "\n",
        "class QAPairGenerator(BaseContextEnricher):\n",
        "    \"\"\"\n",
        "    Converts documents into question–answer pairs using an LLM\n",
        "    Helpful for improving grounding and context awareness.\n",
        "    \"\"\"\n",
        "\n",
        "    def __init__(self, llm):\n",
        "        self.llm = llm\n",
        "\n",
        "    def enrich(self, docs: List[str]) -> List[str]:\n",
        "        qa_pairs = []\n",
        "        for doc in docs:\n",
        "            prompt = f\"Convert the following document into 1-2 question-answer pairs:\\n\\n{doc}\"\n",
        "            try:\n",
        "                qa = self.llm.generate(prompt)\n",
        "            except:\n",
        "                qa = doc  # fallback to original\n",
        "            qa_pairs.append(qa)\n",
        "        return qa_pairs\n"
      ]
    }
  ]
}