{
  "nbformat": 4,
  "nbformat_minor": 0,
  "metadata": {
    "colab": {
      "provenance": []
    },
    "kernelspec": {
      "name": "python3",
      "display_name": "Python 3"
    },
    "language_info": {
      "name": "python"
    }
  },
  "cells": [
    {
      "cell_type": "code",
      "execution_count": null,
      "metadata": {
        "id": "60KSGy-lqxD0"
      },
      "outputs": [],
      "source": [
        "from base.doc_context_enricher import BaseContextEnricher\n",
        "from typing import List\n",
        "import numpy as np\n",
        "\n",
        "class SemanticFilter(BaseContextEnricher):\n",
        "    \"\"\"\n",
        "    Filters out documents that are semantically dissimilar to the query\n",
        "    using cosine similarity of embeddings.\n",
        "    \"\"\"\n",
        "\n",
        "    def __init__(self, embedder, query_embedding, threshold: float = 0.75):\n",
        "        \"\"\"\n",
        "        Args-\n",
        "            embedder: Embedding model with embed(text: str) -> List[float]\n",
        "            query_embedding: Precomputed embedding of the original query\n",
        "            threshold: Minimum cosine similarity required to keep The doc\n",
        "        \"\"\"\n",
        "        self.embedder = embedder\n",
        "        self.query_embedding = query_embedding\n",
        "        self.threshold = threshold\n",
        "\n",
        "    def cosine_sim(self, v1, v2):\n",
        "        v1, v2 = np.array(v1), np.array(v2)\n",
        "        return np.dot(v1, v2) / (np.linalg.norm(v1) * np.linalg.norm(v2))\n",
        "\n",
        "    def enrich(self, docs: List[str]) -> List[str]:\n",
        "        filtered_docs = []\n",
        "        for doc in docs:\n",
        "            try:\n",
        "                doc_emb = self.embedder.embed(doc)\n",
        "                score = self.cosine_sim(doc_emb, self.query_embedding)\n",
        "                if score >= self.threshold:\n",
        "                    filtered_docs.append(doc)\n",
        "            except:\n",
        "                filtered_docs.append(doc)  # fallback: keep doc if error\n",
        "        return filtered_docs\n"
      ]
    }
  ]
}