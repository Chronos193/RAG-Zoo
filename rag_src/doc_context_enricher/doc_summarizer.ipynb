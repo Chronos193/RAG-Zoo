{
  "nbformat": 4,
  "nbformat_minor": 0,
  "metadata": {
    "colab": {
      "provenance": []
    },
    "kernelspec": {
      "name": "python3",
      "display_name": "Python 3"
    },
    "language_info": {
      "name": "python"
    }
  },
  "cells": [
    {
      "cell_type": "code",
      "execution_count": null,
      "metadata": {
        "id": "hbpX0ED4owQ8"
      },
      "outputs": [],
      "source": [
        "from base.doc_context_enricher import BaseContextEnricher\n",
        "from typing import List\n",
        "\n",
        "class DocSummarizer(BaseContextEnricher):\n",
        "    \"\"\"\n",
        "    This module summarizes each document using the LLM\n",
        "    It helps reduce the size and the noise in the retrieved context.\n",
        "    \"\"\"\n",
        "\n",
        "    def __init__(self, llm):\n",
        "        self.llm = llm\n",
        "\n",
        "    def enrich(self, docs: List[str]) -> List[str]:\n",
        "        summaries = []\n",
        "        for doc in docs:\n",
        "            prompt = f\"Summarize the following document in 1-2 lines:\\n\\n{doc}\"\n",
        "            try:\n",
        "                summary = self.llm.generate(prompt)\n",
        "            except:\n",
        "                summary = doc  # fallback: keep original doc\n",
        "            summaries.append(summary)\n",
        "        return summaries"
      ]
    }
  ]
}