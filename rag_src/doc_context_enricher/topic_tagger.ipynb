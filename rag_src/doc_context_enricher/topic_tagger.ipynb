{
  "nbformat": 4,
  "nbformat_minor": 0,
  "metadata": {
    "colab": {
      "provenance": []
    },
    "kernelspec": {
      "name": "python3",
      "display_name": "Python 3"
    },
    "language_info": {
      "name": "python"
    }
  },
  "cells": [
    {
      "cell_type": "code",
      "execution_count": null,
      "metadata": {
        "id": "rMghi5VIqWRe"
      },
      "outputs": [],
      "source": [
        "from base.doc_context_enricher import BaseContextEnricher\n",
        "from typing import List\n",
        "\n",
        "class TopicTagger(BaseContextEnricher):\n",
        "    \"\"\"\n",
        "    Uses the LLM to classify each document's topic.\n",
        "    Appends the topic as a tag to the beginning of each doc.\n",
        "    \"\"\"\n",
        "    def __init__(self, llm):\n",
        "        self.llm = llm\n",
        "\n",
        "    def enrich(self, docs: List[str]) -> List[str]:\n",
        "        tagged_docs = []\n",
        "        for doc in docs:\n",
        "            prompt = f\"Classify the main topic of the following document:\\n\\n{doc}\"\n",
        "            try:\n",
        "                topic = self.llm.generate(prompt).strip().title()\n",
        "            except:\n",
        "                topic = \"General\"\n",
        "            tagged_doc = f\"[Topic: {topic}]\\n\\n{doc}\"\n",
        "            tagged_docs.append(tagged_doc)\n",
        "        return tagged_docs"
      ]
    }
  ]
}