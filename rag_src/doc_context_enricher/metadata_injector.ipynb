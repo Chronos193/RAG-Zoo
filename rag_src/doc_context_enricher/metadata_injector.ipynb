{
  "nbformat": 4,
  "nbformat_minor": 0,
  "metadata": {
    "colab": {
      "provenance": []
    },
    "kernelspec": {
      "name": "python3",
      "display_name": "Python 3"
    },
    "language_info": {
      "name": "python"
    }
  },
  "cells": [
    {
      "cell_type": "code",
      "execution_count": null,
      "metadata": {
        "id": "omdto0OLpaEG"
      },
      "outputs": [],
      "source": [
        "from base.doc_context_enricher import BaseContextEnricher\n",
        "from typing import List\n",
        "\n",
        "class MetadataInjector(BaseContextEnricher):\n",
        "    \"\"\"\n",
        "    Adds metadata (like title, author, timestamp) to each document.\n",
        "    Metadata is provided as a dictionary indexed by document position.\n",
        "    \"\"\"\n",
        "\n",
        "    def __init__(self, metadata: dict):\n",
        "        self.metadata = metadata\n",
        "\n",
        "    def enrich(self, docs: List[str]) -> List[str]:\n",
        "        enriched_docs = []\n",
        "        for i, doc in enumerate(docs):\n",
        "            meta = self.metadata.get(i, \"\")\n",
        "            enriched_doc = f\"{meta}\\n\\n{doc}\" if meta else doc\n",
        "            enriched_docs.append(enriched_doc)\n",
        "        return enriched_docs\n"
      ]
    }
  ]
}